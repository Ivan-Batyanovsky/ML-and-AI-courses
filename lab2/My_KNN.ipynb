{
 "cells": [
  {
   "cell_type": "code",
   "execution_count": 173,
   "metadata": {},
   "outputs": [],
   "source": [
    "import pandas as pd\n",
    "import collections\n",
    "import math \n",
    "import numpy as np\n",
    "import matplotlib.pyplot as plt\n",
    "from sklearn import neighbors\n",
    "from sklearn.neighbors import KNeighborsClassifier\n",
    "from sklearn.metrics import mean_squared_error\n",
    "from sklearn.metrics import mean_absolute_error\n",
    "from sklearn.metrics import precision_score\n",
    "from sklearn.metrics import recall_score\n",
    "from sklearn.metrics import accuracy_score\n",
    "from sklearn.model_selection import train_test_split"
   ]
  },
  {
   "cell_type": "code",
   "execution_count": 174,
   "metadata": {},
   "outputs": [
    {
     "name": "stdout",
     "output_type": "stream",
     "text": [
      "    CallTime  LastContactMonth  PrevAttempts  DaysPassed  HHInsurance  \\\n",
      "Id                                                                      \n",
      "1         70                 0             0          -1            1   \n",
      "2        185                 1             0          -1            1   \n",
      "3        340                 2             1         119            1   \n",
      "4        819                 1             0          -1            1   \n",
      "5        192                 2             0          -1            0   \n",
      "\n",
      "    NoOfContacts  CarInsurance  \n",
      "Id                              \n",
      "1              2             0  \n",
      "2              5             0  \n",
      "3              1             1  \n",
      "4              2             1  \n",
      "5              1             0  \n"
     ]
    }
   ],
   "source": [
    "orig_data = pd.read_csv(r\"datasets/Insurance/final_data.csv\")  # Loading data\n",
    "orig_data.set_index('Id', inplace=True)  # Changing index\n",
    "print(orig_data.head())\n",
    "\n",
    "listOfX = [col for col in orig_data.columns if col not in [\"CarInsurance\", \"Id\"]]  # List of parameters\n",
    "\n",
    "inputData = orig_data[listOfX]  # Getting parameters\n",
    "outputData = orig_data[\"CarInsurance\"]  # Getting answers\n",
    "\n",
    "X_train, X_test, y_train, y_test = train_test_split(inputData, outputData, random_state=228, test_size=0.2)  # Spliting data"
   ]
  },
  {
   "cell_type": "code",
   "execution_count": 175,
   "metadata": {},
   "outputs": [
    {
     "name": "stdout",
     "output_type": "stream",
     "text": [
      "(3056, 6)\n"
     ]
    },
    {
     "data": {
      "text/html": [
       "<div>\n",
       "<style scoped>\n",
       "    .dataframe tbody tr th:only-of-type {\n",
       "        vertical-align: middle;\n",
       "    }\n",
       "\n",
       "    .dataframe tbody tr th {\n",
       "        vertical-align: top;\n",
       "    }\n",
       "\n",
       "    .dataframe thead th {\n",
       "        text-align: right;\n",
       "    }\n",
       "</style>\n",
       "<table border=\"1\" class=\"dataframe\">\n",
       "  <thead>\n",
       "    <tr style=\"text-align: right;\">\n",
       "      <th></th>\n",
       "      <th>CallTime</th>\n",
       "      <th>LastContactMonth</th>\n",
       "      <th>PrevAttempts</th>\n",
       "      <th>DaysPassed</th>\n",
       "      <th>HHInsurance</th>\n",
       "      <th>NoOfContacts</th>\n",
       "    </tr>\n",
       "    <tr>\n",
       "      <th>Id</th>\n",
       "      <th></th>\n",
       "      <th></th>\n",
       "      <th></th>\n",
       "      <th></th>\n",
       "      <th></th>\n",
       "      <th></th>\n",
       "    </tr>\n",
       "  </thead>\n",
       "  <tbody>\n",
       "    <tr>\n",
       "      <th>3075</th>\n",
       "      <td>139</td>\n",
       "      <td>5</td>\n",
       "      <td>0</td>\n",
       "      <td>-1</td>\n",
       "      <td>0</td>\n",
       "      <td>2</td>\n",
       "    </tr>\n",
       "    <tr>\n",
       "      <th>1348</th>\n",
       "      <td>1230</td>\n",
       "      <td>1</td>\n",
       "      <td>0</td>\n",
       "      <td>-1</td>\n",
       "      <td>1</td>\n",
       "      <td>3</td>\n",
       "    </tr>\n",
       "    <tr>\n",
       "      <th>2546</th>\n",
       "      <td>72</td>\n",
       "      <td>1</td>\n",
       "      <td>0</td>\n",
       "      <td>-1</td>\n",
       "      <td>0</td>\n",
       "      <td>3</td>\n",
       "    </tr>\n",
       "    <tr>\n",
       "      <th>832</th>\n",
       "      <td>296</td>\n",
       "      <td>1</td>\n",
       "      <td>0</td>\n",
       "      <td>-1</td>\n",
       "      <td>1</td>\n",
       "      <td>1</td>\n",
       "    </tr>\n",
       "    <tr>\n",
       "      <th>748</th>\n",
       "      <td>1080</td>\n",
       "      <td>5</td>\n",
       "      <td>0</td>\n",
       "      <td>-1</td>\n",
       "      <td>0</td>\n",
       "      <td>3</td>\n",
       "    </tr>\n",
       "  </tbody>\n",
       "</table>\n",
       "</div>"
      ],
      "text/plain": [
       "      CallTime  LastContactMonth  PrevAttempts  DaysPassed  HHInsurance  \\\n",
       "Id                                                                        \n",
       "3075       139                 5             0          -1            0   \n",
       "1348      1230                 1             0          -1            1   \n",
       "2546        72                 1             0          -1            0   \n",
       "832        296                 1             0          -1            1   \n",
       "748       1080                 5             0          -1            0   \n",
       "\n",
       "      NoOfContacts  \n",
       "Id                  \n",
       "3075             2  \n",
       "1348             3  \n",
       "2546             3  \n",
       "832              1  \n",
       "748              3  "
      ]
     },
     "execution_count": 175,
     "metadata": {},
     "output_type": "execute_result"
    }
   ],
   "source": [
    "print(X_train.shape)\n",
    "X_train.head()"
   ]
  },
  {
   "cell_type": "code",
   "execution_count": 176,
   "metadata": {},
   "outputs": [
    {
     "data": {
      "text/plain": [
       "Id\n",
       "3075    0\n",
       "1348    1\n",
       "2546    0\n",
       "832     0\n",
       "748     1\n",
       "Name: CarInsurance, dtype: int64"
      ]
     },
     "execution_count": 176,
     "metadata": {},
     "output_type": "execute_result"
    }
   ],
   "source": [
    "y_train.head()"
   ]
  },
  {
   "cell_type": "code",
   "execution_count": 177,
   "metadata": {
    "scrolled": true
   },
   "outputs": [
    {
     "name": "stdout",
     "output_type": "stream",
     "text": [
      "(3056, 6)\n",
      "(764, 6)\n",
      "(3056, 1)\n",
      "(764, 1)\n"
     ]
    }
   ],
   "source": [
    "# Getting numpy arrays from splitted data\n",
    "X_mat_train = X_train.to_numpy()\n",
    "X_mat_test = X_test.to_numpy()\n",
    "\n",
    "y_mat_train = y_train.to_numpy().reshape(X_mat_train.shape[0], 1)\n",
    "y_mat_test = y_test.to_numpy().reshape(X_mat_test.shape[0], 1)\n",
    "print(X_mat_train.shape)\n",
    "print(X_mat_test.shape)\n",
    "\n",
    "print(y_mat_train.shape)\n",
    "print(y_mat_test.shape)\n"
   ]
  },
  {
   "cell_type": "code",
   "execution_count": 178,
   "metadata": {},
   "outputs": [],
   "source": [
    "def absDist(data, query):\n",
    "    resDist = math.sqrt(np.sum(np.square(data - query)))\n",
    "    return resDist\n",
    "\n",
    "# absDist(np.array([2,0]), np.array([1,1]))"
   ]
  },
  {
   "cell_type": "code",
   "execution_count": 179,
   "metadata": {},
   "outputs": [],
   "source": [
    "def distCalc(X, y, query, k):\n",
    "    listDistances = []\n",
    "    for i, data in enumerate(X):\n",
    "        listDistances.append((i, absDist(data, query)))\n",
    "    listDistances = np.array(sorted(listDistances, key=lambda dist: dist[1]))\n",
    "#     print(type(listDistances))\n",
    "#     print(listDistances[:k,0])\n",
    "#     print(listDistances.shape)\n",
    "    return listDistances[:k]\n",
    "\n",
    "\n",
    "# X = np.array([[1,1], [2,0], [3,3], [1,1], [1,1]])\n",
    "# y = [0,1,0]\n",
    "# distCalc(X, y, X[0], 4)"
   ]
  },
  {
   "cell_type": "code",
   "execution_count": 180,
   "metadata": {},
   "outputs": [],
   "source": [
    "def HopeKNN(X, y, query, k, taskType):\n",
    "    predictions = []\n",
    "    for i, val in enumerate(query): # Podymai moshet ydalit enamerate?\n",
    "        kNearest = distCalc(X, y, val, k)\n",
    "    #     print(kNearest)\n",
    "        labels = y[kNearest[:, 0].astype(int), 0]\n",
    "#         print(labels)\n",
    "        if taskType == \"classification\":\n",
    "    #         print(collections.Counter(labels))\n",
    "            result = collections.Counter(labels).most_common()[0][0]\n",
    "#             print(result)\n",
    "            predictions.append(result)\n",
    "    \n",
    "        elif taskType == \"regression\":\n",
    "            result = np.mean(labels)\n",
    "#             print(result)\n",
    "            predictions.append(result)\n",
    "        \n",
    "        else:\n",
    "            print(\"Wrong taskType\")\n",
    "            return None\n",
    "#     print(predictions)\n",
    "    return predictions        \n",
    "    \n",
    "# X = np.array([[1,1], [2,0], [3,3], [1,1], [1,1]])\n",
    "# y = np.array([[], [0], [1], [0], [0]])\n",
    "# q = np.array([[2,3], [0,0]])\n",
    "# k = 3\n",
    "# HopeKNN(X, y, q, k, \"classification\")"
   ]
  },
  {
   "cell_type": "code",
   "execution_count": 181,
   "metadata": {},
   "outputs": [
    {
     "data": {
      "text/plain": [
       "Counter({1: 3, 2: 1, 0: 1})"
      ]
     },
     "execution_count": 181,
     "metadata": {},
     "output_type": "execute_result"
    }
   ],
   "source": [
    "dir(collections.Counter([1,2,1,1,0]))\n",
    "collections.Counter([1,2,1,1,0])"
   ]
  },
  {
   "cell_type": "code",
   "execution_count": 182,
   "metadata": {},
   "outputs": [],
   "source": [
    "resi = HopeKNN(X_mat_train, y_mat_train, X_mat_test, 5, \"classification\")"
   ]
  },
  {
   "cell_type": "code",
   "execution_count": 183,
   "metadata": {},
   "outputs": [
    {
     "name": "stdout",
     "output_type": "stream",
     "text": [
      "Test Accuracy 0.768324607329843\n",
      "0.7152317880794702\n",
      "0.7035830618892508\n"
     ]
    }
   ],
   "source": [
    "print('Test Accuracy', accuracy_score(y_mat_test, resi))\n",
    "\n",
    "print(precision_score(y_mat_test, resi))\n",
    "print(recall_score(y_mat_test, resi))"
   ]
  },
  {
   "cell_type": "code",
   "execution_count": 184,
   "metadata": {},
   "outputs": [
    {
     "name": "stdout",
     "output_type": "stream",
     "text": [
      "Test Accuracy 0.7604712041884817\n",
      "0.7052980132450332\n",
      "0.6938110749185668\n"
     ]
    },
    {
     "name": "stderr",
     "output_type": "stream",
     "text": [
      "C:\\Anaconda\\lib\\site-packages\\ipykernel_launcher.py:2: DataConversionWarning: A column-vector y was passed when a 1d array was expected. Please change the shape of y to (n_samples, ), for example using ravel().\n",
      "  \n"
     ]
    }
   ],
   "source": [
    "neigh = KNeighborsClassifier(n_neighbors=3)\n",
    "neigh.fit(X_mat_train, y_mat_train)\n",
    "\n",
    "print('Test Accuracy', accuracy_score(y_mat_test, neigh.predict(X_mat_test)))\n",
    "\n",
    "print(precision_score(y_mat_test, neigh.predict(X_mat_test)))\n",
    "print(recall_score(y_mat_test, neigh.predict(X_mat_test)))"
   ]
  },
  {
   "cell_type": "code",
   "execution_count": 185,
   "metadata": {},
   "outputs": [
    {
     "name": "stdout",
     "output_type": "stream",
     "text": [
      "   failures  higher  age  Medu  Fedu  goout  G3\n",
      "0         0       0   18     4     4      4   6\n",
      "1         0       0   17     1     1      3   6\n",
      "2         3       0   15     1     1      2  10\n",
      "3         0       0   15     4     2      2  15\n",
      "4         0       0   16     3     3      2  10\n"
     ]
    }
   ],
   "source": [
    "orig_data = pd.read_csv(r\"datasets/DEG/final_data.csv\", index_col=0)  # Loading data\n",
    "\n",
    "print(orig_data.head())\n",
    "\n",
    "listOfX = [col for col in orig_data.columns if col not in [\"G3\"]]  # List of parameters\n",
    "\n",
    "inputData = orig_data[listOfX]  # Getting parameters\n",
    "outputData = orig_data[\"G3\"]  # Getting answers\n",
    "\n",
    "X_train, X_test, y_train, y_test = train_test_split(inputData, outputData, random_state=228, test_size=0.2)  # Spliting data"
   ]
  },
  {
   "cell_type": "code",
   "execution_count": 186,
   "metadata": {},
   "outputs": [
    {
     "data": {
      "text/html": [
       "<div>\n",
       "<style scoped>\n",
       "    .dataframe tbody tr th:only-of-type {\n",
       "        vertical-align: middle;\n",
       "    }\n",
       "\n",
       "    .dataframe tbody tr th {\n",
       "        vertical-align: top;\n",
       "    }\n",
       "\n",
       "    .dataframe thead th {\n",
       "        text-align: right;\n",
       "    }\n",
       "</style>\n",
       "<table border=\"1\" class=\"dataframe\">\n",
       "  <thead>\n",
       "    <tr style=\"text-align: right;\">\n",
       "      <th></th>\n",
       "      <th>failures</th>\n",
       "      <th>higher</th>\n",
       "      <th>age</th>\n",
       "      <th>Medu</th>\n",
       "      <th>Fedu</th>\n",
       "      <th>goout</th>\n",
       "    </tr>\n",
       "  </thead>\n",
       "  <tbody>\n",
       "    <tr>\n",
       "      <th>99</th>\n",
       "      <td>0</td>\n",
       "      <td>0</td>\n",
       "      <td>16</td>\n",
       "      <td>4</td>\n",
       "      <td>3</td>\n",
       "      <td>5</td>\n",
       "    </tr>\n",
       "    <tr>\n",
       "      <th>4</th>\n",
       "      <td>0</td>\n",
       "      <td>0</td>\n",
       "      <td>16</td>\n",
       "      <td>3</td>\n",
       "      <td>3</td>\n",
       "      <td>2</td>\n",
       "    </tr>\n",
       "    <tr>\n",
       "      <th>291</th>\n",
       "      <td>0</td>\n",
       "      <td>0</td>\n",
       "      <td>17</td>\n",
       "      <td>4</td>\n",
       "      <td>3</td>\n",
       "      <td>2</td>\n",
       "    </tr>\n",
       "    <tr>\n",
       "      <th>378</th>\n",
       "      <td>0</td>\n",
       "      <td>0</td>\n",
       "      <td>18</td>\n",
       "      <td>3</td>\n",
       "      <td>3</td>\n",
       "      <td>3</td>\n",
       "    </tr>\n",
       "    <tr>\n",
       "      <th>25</th>\n",
       "      <td>2</td>\n",
       "      <td>0</td>\n",
       "      <td>16</td>\n",
       "      <td>2</td>\n",
       "      <td>2</td>\n",
       "      <td>2</td>\n",
       "    </tr>\n",
       "    <tr>\n",
       "      <th>...</th>\n",
       "      <td>...</td>\n",
       "      <td>...</td>\n",
       "      <td>...</td>\n",
       "      <td>...</td>\n",
       "      <td>...</td>\n",
       "      <td>...</td>\n",
       "    </tr>\n",
       "    <tr>\n",
       "      <th>44</th>\n",
       "      <td>1</td>\n",
       "      <td>0</td>\n",
       "      <td>16</td>\n",
       "      <td>2</td>\n",
       "      <td>2</td>\n",
       "      <td>3</td>\n",
       "    </tr>\n",
       "    <tr>\n",
       "      <th>249</th>\n",
       "      <td>0</td>\n",
       "      <td>0</td>\n",
       "      <td>16</td>\n",
       "      <td>0</td>\n",
       "      <td>2</td>\n",
       "      <td>2</td>\n",
       "    </tr>\n",
       "    <tr>\n",
       "      <th>371</th>\n",
       "      <td>0</td>\n",
       "      <td>1</td>\n",
       "      <td>18</td>\n",
       "      <td>1</td>\n",
       "      <td>2</td>\n",
       "      <td>3</td>\n",
       "    </tr>\n",
       "    <tr>\n",
       "      <th>144</th>\n",
       "      <td>3</td>\n",
       "      <td>0</td>\n",
       "      <td>17</td>\n",
       "      <td>2</td>\n",
       "      <td>1</td>\n",
       "      <td>5</td>\n",
       "    </tr>\n",
       "    <tr>\n",
       "      <th>389</th>\n",
       "      <td>1</td>\n",
       "      <td>0</td>\n",
       "      <td>18</td>\n",
       "      <td>1</td>\n",
       "      <td>1</td>\n",
       "      <td>1</td>\n",
       "    </tr>\n",
       "  </tbody>\n",
       "</table>\n",
       "<p>316 rows × 6 columns</p>\n",
       "</div>"
      ],
      "text/plain": [
       "     failures  higher  age  Medu  Fedu  goout\n",
       "99          0       0   16     4     3      5\n",
       "4           0       0   16     3     3      2\n",
       "291         0       0   17     4     3      2\n",
       "378         0       0   18     3     3      3\n",
       "25          2       0   16     2     2      2\n",
       "..        ...     ...  ...   ...   ...    ...\n",
       "44          1       0   16     2     2      3\n",
       "249         0       0   16     0     2      2\n",
       "371         0       1   18     1     2      3\n",
       "144         3       0   17     2     1      5\n",
       "389         1       0   18     1     1      1\n",
       "\n",
       "[316 rows x 6 columns]"
      ]
     },
     "execution_count": 186,
     "metadata": {},
     "output_type": "execute_result"
    }
   ],
   "source": [
    "X_train"
   ]
  },
  {
   "cell_type": "code",
   "execution_count": 187,
   "metadata": {},
   "outputs": [
    {
     "data": {
      "text/plain": [
       "99      8\n",
       "4      10\n",
       "291    15\n",
       "378    15\n",
       "25      8\n",
       "       ..\n",
       "44      9\n",
       "249    15\n",
       "371    12\n",
       "144     0\n",
       "389     0\n",
       "Name: G3, Length: 316, dtype: int64"
      ]
     },
     "execution_count": 187,
     "metadata": {},
     "output_type": "execute_result"
    }
   ],
   "source": [
    "y_train"
   ]
  },
  {
   "cell_type": "code",
   "execution_count": 188,
   "metadata": {},
   "outputs": [
    {
     "name": "stdout",
     "output_type": "stream",
     "text": [
      "(316, 6)\n",
      "(79, 6)\n",
      "(316, 1)\n",
      "(79, 1)\n"
     ]
    }
   ],
   "source": [
    "# Getting numpy arrays from splitted data\n",
    "X_mat_train = X_train.to_numpy()\n",
    "X_mat_test = X_test.to_numpy()\n",
    "\n",
    "y_mat_train = y_train.to_numpy().reshape(X_mat_train.shape[0], 1)\n",
    "y_mat_test = y_test.to_numpy().reshape(X_mat_test.shape[0], 1)\n",
    "print(X_mat_train.shape)\n",
    "print(X_mat_test.shape)\n",
    "\n",
    "print(y_mat_train.shape)\n",
    "print(y_mat_test.shape)\n"
   ]
  },
  {
   "cell_type": "code",
   "execution_count": 189,
   "metadata": {},
   "outputs": [],
   "source": [
    "resi = HopeKNN(X_mat_train, y_mat_train, X_mat_test, 5, \"regression\")"
   ]
  },
  {
   "cell_type": "code",
   "execution_count": 190,
   "metadata": {
    "scrolled": true
   },
   "outputs": [
    {
     "data": {
      "text/plain": [
       "[13.6,\n",
       " 10.2,\n",
       " 13.0,\n",
       " 9.0,\n",
       " 8.4,\n",
       " 11.8,\n",
       " 10.2,\n",
       " 8.0,\n",
       " 9.8,\n",
       " 7.8,\n",
       " 10.4,\n",
       " 9.0,\n",
       " 9.6,\n",
       " 11.0,\n",
       " 9.2,\n",
       " 10.4,\n",
       " 10.2,\n",
       " 13.2,\n",
       " 12.6,\n",
       " 8.4,\n",
       " 9.2,\n",
       " 11.0,\n",
       " 10.0,\n",
       " 11.2,\n",
       " 7.4,\n",
       " 11.2,\n",
       " 13.0,\n",
       " 8.0,\n",
       " 10.0,\n",
       " 13.0,\n",
       " 10.8,\n",
       " 10.2,\n",
       " 11.0,\n",
       " 9.2,\n",
       " 11.8,\n",
       " 10.6,\n",
       " 8.4,\n",
       " 9.0,\n",
       " 11.2,\n",
       " 8.2,\n",
       " 7.0,\n",
       " 11.4,\n",
       " 9.0,\n",
       " 10.2,\n",
       " 9.6,\n",
       " 10.4,\n",
       " 13.6,\n",
       " 13.8,\n",
       " 11.6,\n",
       " 7.4,\n",
       " 12.0,\n",
       " 11.6,\n",
       " 12.8,\n",
       " 7.8,\n",
       " 9.0,\n",
       " 12.2,\n",
       " 6.6,\n",
       " 9.8,\n",
       " 8.8,\n",
       " 12.0,\n",
       " 7.8,\n",
       " 8.4,\n",
       " 8.8,\n",
       " 9.4,\n",
       " 12.0,\n",
       " 10.0,\n",
       " 10.6,\n",
       " 10.2,\n",
       " 12.8,\n",
       " 11.4,\n",
       " 10.4,\n",
       " 11.6,\n",
       " 7.4,\n",
       " 10.0,\n",
       " 12.2,\n",
       " 9.0,\n",
       " 9.8,\n",
       " 14.4,\n",
       " 11.6]"
      ]
     },
     "execution_count": 190,
     "metadata": {},
     "output_type": "execute_result"
    }
   ],
   "source": [
    "resi"
   ]
  },
  {
   "cell_type": "code",
   "execution_count": 191,
   "metadata": {},
   "outputs": [
    {
     "data": {
      "text/plain": [
       "3.7392405063291134"
      ]
     },
     "execution_count": 191,
     "metadata": {},
     "output_type": "execute_result"
    }
   ],
   "source": [
    "mean_absolute_error(y_mat_test, resi)"
   ]
  },
  {
   "cell_type": "code",
   "execution_count": 192,
   "metadata": {},
   "outputs": [
    {
     "data": {
      "text/plain": [
       "24.563544303797467"
      ]
     },
     "execution_count": 192,
     "metadata": {},
     "output_type": "execute_result"
    }
   ],
   "source": [
    "mean_squared_error(y_mat_test, resi)"
   ]
  },
  {
   "cell_type": "code",
   "execution_count": 193,
   "metadata": {
    "scrolled": true
   },
   "outputs": [
    {
     "data": {
      "text/plain": [
       "array([[ 7],\n",
       "       [13],\n",
       "       [14],\n",
       "       [10],\n",
       "       [ 0],\n",
       "       [15],\n",
       "       [18],\n",
       "       [ 8],\n",
       "       [ 7],\n",
       "       [11],\n",
       "       [10],\n",
       "       [10],\n",
       "       [12],\n",
       "       [ 0],\n",
       "       [12],\n",
       "       [12],\n",
       "       [14],\n",
       "       [10],\n",
       "       [14],\n",
       "       [ 8],\n",
       "       [18],\n",
       "       [13],\n",
       "       [11],\n",
       "       [12],\n",
       "       [11],\n",
       "       [ 0],\n",
       "       [15],\n",
       "       [ 0],\n",
       "       [ 9],\n",
       "       [10],\n",
       "       [10],\n",
       "       [13],\n",
       "       [11],\n",
       "       [ 5],\n",
       "       [11],\n",
       "       [16],\n",
       "       [ 9],\n",
       "       [14],\n",
       "       [11],\n",
       "       [ 7],\n",
       "       [ 7],\n",
       "       [ 0],\n",
       "       [16],\n",
       "       [14],\n",
       "       [11],\n",
       "       [ 9],\n",
       "       [14],\n",
       "       [11],\n",
       "       [15],\n",
       "       [14],\n",
       "       [ 9],\n",
       "       [ 0],\n",
       "       [15],\n",
       "       [13],\n",
       "       [13],\n",
       "       [10],\n",
       "       [ 0],\n",
       "       [18],\n",
       "       [11],\n",
       "       [ 0],\n",
       "       [10],\n",
       "       [ 0],\n",
       "       [11],\n",
       "       [17],\n",
       "       [ 0],\n",
       "       [11],\n",
       "       [14],\n",
       "       [11],\n",
       "       [ 6],\n",
       "       [16],\n",
       "       [11],\n",
       "       [18],\n",
       "       [13],\n",
       "       [14],\n",
       "       [10],\n",
       "       [11],\n",
       "       [11],\n",
       "       [13],\n",
       "       [12]], dtype=int64)"
      ]
     },
     "execution_count": 193,
     "metadata": {},
     "output_type": "execute_result"
    }
   ],
   "source": [
    "y_mat_test"
   ]
  },
  {
   "cell_type": "code",
   "execution_count": 194,
   "metadata": {},
   "outputs": [],
   "source": [
    "from sklearn.neighbors import KNeighborsClassifier"
   ]
  },
  {
   "cell_type": "code",
   "execution_count": 195,
   "metadata": {},
   "outputs": [],
   "source": [
    "neigh = neighbors.KNeighborsRegressor(n_neighbors=5, weights=\"distance\")"
   ]
  },
  {
   "cell_type": "code",
   "execution_count": 196,
   "metadata": {
    "scrolled": true
   },
   "outputs": [],
   "source": [
    "skres = neigh.fit(X_mat_train, y_mat_train).predict(X_mat_test)"
   ]
  },
  {
   "cell_type": "code",
   "execution_count": 197,
   "metadata": {},
   "outputs": [
    {
     "data": {
      "text/plain": [
       "3.758025772538794"
      ]
     },
     "execution_count": 197,
     "metadata": {},
     "output_type": "execute_result"
    }
   ],
   "source": [
    "mean_absolute_error(y_mat_test, skres)"
   ]
  },
  {
   "cell_type": "code",
   "execution_count": 198,
   "metadata": {},
   "outputs": [
    {
     "data": {
      "text/plain": [
       "26.9069717880285"
      ]
     },
     "execution_count": 198,
     "metadata": {},
     "output_type": "execute_result"
    }
   ],
   "source": [
    "mean_squared_error(y_mat_test, skres)"
   ]
  },
  {
   "cell_type": "code",
   "execution_count": null,
   "metadata": {},
   "outputs": [],
   "source": []
  },
  {
   "cell_type": "code",
   "execution_count": null,
   "metadata": {},
   "outputs": [],
   "source": []
  },
  {
   "cell_type": "code",
   "execution_count": null,
   "metadata": {},
   "outputs": [],
   "source": []
  },
  {
   "cell_type": "code",
   "execution_count": null,
   "metadata": {},
   "outputs": [],
   "source": []
  }
 ],
 "metadata": {
  "kernelspec": {
   "display_name": "Python 3",
   "language": "python",
   "name": "python3"
  },
  "language_info": {
   "codemirror_mode": {
    "name": "ipython",
    "version": 3
   },
   "file_extension": ".py",
   "mimetype": "text/x-python",
   "name": "python",
   "nbconvert_exporter": "python",
   "pygments_lexer": "ipython3",
   "version": "3.7.6"
  }
 },
 "nbformat": 4,
 "nbformat_minor": 4
}
