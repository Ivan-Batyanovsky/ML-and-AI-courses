{
 "cells": [
  {
   "cell_type": "code",
   "execution_count": 2,
   "metadata": {},
   "outputs": [],
   "source": [
    "import pandas as pd\n",
    "import numpy as np\n",
    "import matplotlib.pyplot as plt\n",
    "from sklearn.model_selection import train_test_split\n",
    "from sklearn.metrics import accuracy_score\n",
    "from sklearn.linear_model import LogisticRegression\n",
    "from sklearn.metrics import precision_score\n",
    "from sklearn.metrics import recall_score"
   ]
  },
  {
   "cell_type": "code",
   "execution_count": 3,
   "metadata": {},
   "outputs": [
    {
     "name": "stdout",
     "output_type": "stream",
     "text": [
      "    CallTime  LastContactMonth  PrevAttempts  DaysPassed  HHInsurance  \\\n",
      "Id                                                                      \n",
      "1         70                 0             0          -1            1   \n",
      "2        185                 1             0          -1            1   \n",
      "3        340                 2             1         119            1   \n",
      "4        819                 1             0          -1            1   \n",
      "5        192                 2             0          -1            0   \n",
      "\n",
      "    NoOfContacts  CarInsurance  \n",
      "Id                              \n",
      "1              2             0  \n",
      "2              5             0  \n",
      "3              1             1  \n",
      "4              2             1  \n",
      "5              1             0  \n"
     ]
    }
   ],
   "source": [
    "orig_data = pd.read_csv(r\"datasets/Insurance/final_data.csv\")  # Loading data\n",
    "orig_data.set_index('Id', inplace=True)  # Changing index\n",
    "print(orig_data.head())\n",
    "\n",
    "listOfX = [col for col in orig_data.columns if col not in [\"CarInsurance\", \"Id\"]]  # List of parameters\n",
    "\n",
    "inputData = orig_data[listOfX]  # Getting parameters\n",
    "outputData = orig_data[\"CarInsurance\"]  # Getting answers\n",
    "\n",
    "X_train, X_test, y_train, y_test = train_test_split(inputData, outputData, random_state=228, test_size=0.2)  # Spliting data"
   ]
  },
  {
   "cell_type": "code",
   "execution_count": 3,
   "metadata": {
    "scrolled": true
   },
   "outputs": [
    {
     "data": {
      "text/plain": [
       "(3056, 6)"
      ]
     },
     "execution_count": 3,
     "metadata": {},
     "output_type": "execute_result"
    }
   ],
   "source": [
    "X_train.shape"
   ]
  },
  {
   "cell_type": "code",
   "execution_count": 4,
   "metadata": {},
   "outputs": [
    {
     "data": {
      "text/plain": [
       "Id\n",
       "3075    0\n",
       "1348    1\n",
       "2546    0\n",
       "832     0\n",
       "748     1\n",
       "1732    0\n",
       "3915    0\n",
       "2848    1\n",
       "1098    1\n",
       "1850    1\n",
       "3679    0\n",
       "3738    0\n",
       "863     0\n",
       "1817    0\n",
       "1954    1\n",
       "1533    0\n",
       "3804    0\n",
       "3165    0\n",
       "2374    1\n",
       "2141    0\n",
       "Name: CarInsurance, dtype: int64"
      ]
     },
     "execution_count": 4,
     "metadata": {},
     "output_type": "execute_result"
    }
   ],
   "source": [
    "y_train[:20]"
   ]
  },
  {
   "cell_type": "code",
   "execution_count": 5,
   "metadata": {},
   "outputs": [
    {
     "data": {
      "text/html": [
       "<div>\n",
       "<style scoped>\n",
       "    .dataframe tbody tr th:only-of-type {\n",
       "        vertical-align: middle;\n",
       "    }\n",
       "\n",
       "    .dataframe tbody tr th {\n",
       "        vertical-align: top;\n",
       "    }\n",
       "\n",
       "    .dataframe thead th {\n",
       "        text-align: right;\n",
       "    }\n",
       "</style>\n",
       "<table border=\"1\" class=\"dataframe\">\n",
       "  <thead>\n",
       "    <tr style=\"text-align: right;\">\n",
       "      <th></th>\n",
       "      <th>CallTime</th>\n",
       "      <th>LastContactMonth</th>\n",
       "      <th>PrevAttempts</th>\n",
       "      <th>DaysPassed</th>\n",
       "      <th>HHInsurance</th>\n",
       "      <th>NoOfContacts</th>\n",
       "    </tr>\n",
       "    <tr>\n",
       "      <th>Id</th>\n",
       "      <th></th>\n",
       "      <th></th>\n",
       "      <th></th>\n",
       "      <th></th>\n",
       "      <th></th>\n",
       "      <th></th>\n",
       "    </tr>\n",
       "  </thead>\n",
       "  <tbody>\n",
       "    <tr>\n",
       "      <th>3075</th>\n",
       "      <td>139</td>\n",
       "      <td>5</td>\n",
       "      <td>0</td>\n",
       "      <td>-1</td>\n",
       "      <td>0</td>\n",
       "      <td>2</td>\n",
       "    </tr>\n",
       "    <tr>\n",
       "      <th>1348</th>\n",
       "      <td>1230</td>\n",
       "      <td>1</td>\n",
       "      <td>0</td>\n",
       "      <td>-1</td>\n",
       "      <td>1</td>\n",
       "      <td>3</td>\n",
       "    </tr>\n",
       "    <tr>\n",
       "      <th>2546</th>\n",
       "      <td>72</td>\n",
       "      <td>1</td>\n",
       "      <td>0</td>\n",
       "      <td>-1</td>\n",
       "      <td>0</td>\n",
       "      <td>3</td>\n",
       "    </tr>\n",
       "    <tr>\n",
       "      <th>832</th>\n",
       "      <td>296</td>\n",
       "      <td>1</td>\n",
       "      <td>0</td>\n",
       "      <td>-1</td>\n",
       "      <td>1</td>\n",
       "      <td>1</td>\n",
       "    </tr>\n",
       "    <tr>\n",
       "      <th>748</th>\n",
       "      <td>1080</td>\n",
       "      <td>5</td>\n",
       "      <td>0</td>\n",
       "      <td>-1</td>\n",
       "      <td>0</td>\n",
       "      <td>3</td>\n",
       "    </tr>\n",
       "    <tr>\n",
       "      <th>1732</th>\n",
       "      <td>228</td>\n",
       "      <td>1</td>\n",
       "      <td>0</td>\n",
       "      <td>-1</td>\n",
       "      <td>1</td>\n",
       "      <td>1</td>\n",
       "    </tr>\n",
       "    <tr>\n",
       "      <th>3915</th>\n",
       "      <td>114</td>\n",
       "      <td>1</td>\n",
       "      <td>0</td>\n",
       "      <td>-1</td>\n",
       "      <td>1</td>\n",
       "      <td>1</td>\n",
       "    </tr>\n",
       "    <tr>\n",
       "      <th>2848</th>\n",
       "      <td>893</td>\n",
       "      <td>4</td>\n",
       "      <td>0</td>\n",
       "      <td>-1</td>\n",
       "      <td>0</td>\n",
       "      <td>1</td>\n",
       "    </tr>\n",
       "    <tr>\n",
       "      <th>1098</th>\n",
       "      <td>516</td>\n",
       "      <td>2</td>\n",
       "      <td>5</td>\n",
       "      <td>292</td>\n",
       "      <td>0</td>\n",
       "      <td>1</td>\n",
       "    </tr>\n",
       "    <tr>\n",
       "      <th>1850</th>\n",
       "      <td>259</td>\n",
       "      <td>2</td>\n",
       "      <td>0</td>\n",
       "      <td>-1</td>\n",
       "      <td>0</td>\n",
       "      <td>2</td>\n",
       "    </tr>\n",
       "    <tr>\n",
       "      <th>3679</th>\n",
       "      <td>89</td>\n",
       "      <td>2</td>\n",
       "      <td>0</td>\n",
       "      <td>-1</td>\n",
       "      <td>0</td>\n",
       "      <td>1</td>\n",
       "    </tr>\n",
       "    <tr>\n",
       "      <th>3738</th>\n",
       "      <td>584</td>\n",
       "      <td>7</td>\n",
       "      <td>0</td>\n",
       "      <td>-1</td>\n",
       "      <td>1</td>\n",
       "      <td>1</td>\n",
       "    </tr>\n",
       "    <tr>\n",
       "      <th>863</th>\n",
       "      <td>310</td>\n",
       "      <td>1</td>\n",
       "      <td>0</td>\n",
       "      <td>-1</td>\n",
       "      <td>0</td>\n",
       "      <td>3</td>\n",
       "    </tr>\n",
       "    <tr>\n",
       "      <th>1817</th>\n",
       "      <td>22</td>\n",
       "      <td>4</td>\n",
       "      <td>0</td>\n",
       "      <td>-1</td>\n",
       "      <td>0</td>\n",
       "      <td>5</td>\n",
       "    </tr>\n",
       "    <tr>\n",
       "      <th>1954</th>\n",
       "      <td>639</td>\n",
       "      <td>9</td>\n",
       "      <td>1</td>\n",
       "      <td>189</td>\n",
       "      <td>0</td>\n",
       "      <td>1</td>\n",
       "    </tr>\n",
       "    <tr>\n",
       "      <th>1533</th>\n",
       "      <td>20</td>\n",
       "      <td>7</td>\n",
       "      <td>0</td>\n",
       "      <td>-1</td>\n",
       "      <td>1</td>\n",
       "      <td>2</td>\n",
       "    </tr>\n",
       "    <tr>\n",
       "      <th>3804</th>\n",
       "      <td>121</td>\n",
       "      <td>5</td>\n",
       "      <td>0</td>\n",
       "      <td>-1</td>\n",
       "      <td>0</td>\n",
       "      <td>8</td>\n",
       "    </tr>\n",
       "    <tr>\n",
       "      <th>3165</th>\n",
       "      <td>84</td>\n",
       "      <td>8</td>\n",
       "      <td>0</td>\n",
       "      <td>-1</td>\n",
       "      <td>0</td>\n",
       "      <td>1</td>\n",
       "    </tr>\n",
       "    <tr>\n",
       "      <th>2374</th>\n",
       "      <td>762</td>\n",
       "      <td>1</td>\n",
       "      <td>2</td>\n",
       "      <td>182</td>\n",
       "      <td>0</td>\n",
       "      <td>1</td>\n",
       "    </tr>\n",
       "    <tr>\n",
       "      <th>2141</th>\n",
       "      <td>66</td>\n",
       "      <td>1</td>\n",
       "      <td>1</td>\n",
       "      <td>359</td>\n",
       "      <td>1</td>\n",
       "      <td>1</td>\n",
       "    </tr>\n",
       "  </tbody>\n",
       "</table>\n",
       "</div>"
      ],
      "text/plain": [
       "      CallTime  LastContactMonth  PrevAttempts  DaysPassed  HHInsurance  \\\n",
       "Id                                                                        \n",
       "3075       139                 5             0          -1            0   \n",
       "1348      1230                 1             0          -1            1   \n",
       "2546        72                 1             0          -1            0   \n",
       "832        296                 1             0          -1            1   \n",
       "748       1080                 5             0          -1            0   \n",
       "1732       228                 1             0          -1            1   \n",
       "3915       114                 1             0          -1            1   \n",
       "2848       893                 4             0          -1            0   \n",
       "1098       516                 2             5         292            0   \n",
       "1850       259                 2             0          -1            0   \n",
       "3679        89                 2             0          -1            0   \n",
       "3738       584                 7             0          -1            1   \n",
       "863        310                 1             0          -1            0   \n",
       "1817        22                 4             0          -1            0   \n",
       "1954       639                 9             1         189            0   \n",
       "1533        20                 7             0          -1            1   \n",
       "3804       121                 5             0          -1            0   \n",
       "3165        84                 8             0          -1            0   \n",
       "2374       762                 1             2         182            0   \n",
       "2141        66                 1             1         359            1   \n",
       "\n",
       "      NoOfContacts  \n",
       "Id                  \n",
       "3075             2  \n",
       "1348             3  \n",
       "2546             3  \n",
       "832              1  \n",
       "748              3  \n",
       "1732             1  \n",
       "3915             1  \n",
       "2848             1  \n",
       "1098             1  \n",
       "1850             2  \n",
       "3679             1  \n",
       "3738             1  \n",
       "863              3  \n",
       "1817             5  \n",
       "1954             1  \n",
       "1533             2  \n",
       "3804             8  \n",
       "3165             1  \n",
       "2374             1  \n",
       "2141             1  "
      ]
     },
     "execution_count": 5,
     "metadata": {},
     "output_type": "execute_result"
    }
   ],
   "source": [
    "X_train[:20]"
   ]
  },
  {
   "cell_type": "code",
   "execution_count": 6,
   "metadata": {},
   "outputs": [],
   "source": [
    "def sigFunc(res):\n",
    "    yhatarino = 1 / (1 + np.exp(-res))\n",
    "    return yhatarino"
   ]
  },
  {
   "cell_type": "code",
   "execution_count": 7,
   "metadata": {},
   "outputs": [],
   "source": [
    "def pred(tt_X, weights, bias):\n",
    "    ಠ_ಠ = np.zeros((tt_X.shape[0], 1))\n",
    "    z = sigFunc(np.dot(tt_X, weights.T) + bias)\n",
    "\n",
    "    for i in range(z.shape[0]):\n",
    "        if z[i][0] > 0.5:\n",
    "            ಠ_ಠ[i][0] = 1\n",
    "    return ಠ_ಠ"
   ]
  },
  {
   "cell_type": "code",
   "execution_count": 8,
   "metadata": {
    "scrolled": true
   },
   "outputs": [],
   "source": [
    "def optimizerHope(batchedX, batchedy, weights, bias):\n",
    "    batchedz = np.dot(batchedX, weights.T) + bias\n",
    "    batcheda = sigFunc(batchedz)\n",
    "    batchLen = batcheda.shape[0]\n",
    "    \n",
    "    cost = (-1 / batchLen) * (np.sum(batchedy * np.log(batcheda) + (1 - batchedy) * np.log(1 - batcheda)))\n",
    "\n",
    "    dw = (1 / batchLen) * (np.dot((batcheda - batchedy).T, batchedX))\n",
    "    db = (1 / batchLen) * np.sum(batcheda - batchedy)\n",
    "\n",
    "    grads = {\"dw\": dw, \"db\": db}\n",
    "    \n",
    "    return grads, cost"
   ]
  },
  {
   "cell_type": "code",
   "execution_count": 9,
   "metadata": {
    "scrolled": false
   },
   "outputs": [
    {
     "name": "stdout",
     "output_type": "stream",
     "text": [
      "Train Accuracy 0.7506544502617801\n",
      "Test Accuracy 0.7342931937172775\n"
     ]
    },
    {
     "data": {
      "image/png": "[encoded data removed]",
      "text/plain": [
       "<Figure size 432x288 with 1 Axes>"
      ]
     },
     "metadata": {
      "needs_background": "light"
     },
     "output_type": "display_data"
    }
   ],
   "source": [
    "def LogRegHope(trainX, trainy, testX, testy, learningRate=0.00001, batch=128, epochs=9000):\n",
    "    queriesNum, featuresNum = trainX[trainX.shape[0] % batch:].shape[0], trainX.shape[1]\n",
    "    weights, bias = np.zeros((1, featuresNum)), 0\n",
    "\n",
    "    tr_y, tr_X = trainy.reshape(trainy.shape[0], 1), trainX.copy()\n",
    "    tt_y, tt_X = testy.reshape(testy.shape[0], 1), testX.copy()\n",
    "    costList = []\n",
    "    \n",
    "    for epoch in range(epochs):\n",
    "        for i in range(queriesNum // batch):\n",
    "            batchedX = tr_X[i * batch: i * batch + batch]\n",
    "            batchedy = tr_y[i * batch: i * batch + batch]\n",
    "            grads, cost = optimizerHope(batchedX, batchedy, weights, bias)\n",
    "            \n",
    "            dw = grads[\"dw\"]\n",
    "            db = grads[\"db\"]\n",
    "            \n",
    "            weights = weights - (learningRate * dw)\n",
    "            bias = bias - (learningRate * db)\n",
    "\n",
    "        costList.append(cost)\n",
    "    predictions_train = pred(tr_X, weights, bias)\n",
    "    print('Train Accuracy', accuracy_score(predictions_train, tr_y))\n",
    "    \n",
    "    predictions_test = pred(tt_X, weights, bias)\n",
    "    print('Test Accuracy', accuracy_score(predictions_test, tt_y))\n",
    "    plt.plot(costList)\n",
    "    plt.ylabel('Cost')    \n",
    "    return tt_y, predictions_test\n",
    "\n",
    "tt_y, predictions_test = LogRegHope(X_train.to_numpy(), y_train.to_numpy(), X_test.to_numpy(), y_test.to_numpy())"
   ]
  },
  {
   "cell_type": "code",
   "execution_count": 10,
   "metadata": {},
   "outputs": [
    {
     "name": "stdout",
     "output_type": "stream",
     "text": [
      "0.6793103448275862\n",
      "0.6416938110749185\n"
     ]
    }
   ],
   "source": [
    "print(precision_score(tt_y, predictions_test))\n",
    "print(recall_score(tt_y, predictions_test))"
   ]
  },
  {
   "cell_type": "code",
   "execution_count": 11,
   "metadata": {},
   "outputs": [],
   "source": [
    "logisticRegr = LogisticRegression()"
   ]
  },
  {
   "cell_type": "code",
   "execution_count": 12,
   "metadata": {},
   "outputs": [
    {
     "data": {
      "text/plain": [
       "LogisticRegression(C=1.0, class_weight=None, dual=False, fit_intercept=True,\n",
       "                   intercept_scaling=1, l1_ratio=None, max_iter=100,\n",
       "                   multi_class='auto', n_jobs=None, penalty='l2',\n",
       "                   random_state=None, solver='lbfgs', tol=0.0001, verbose=0,\n",
       "                   warm_start=False)"
      ]
     },
     "execution_count": 12,
     "metadata": {},
     "output_type": "execute_result"
    }
   ],
   "source": [
    "logisticRegr.fit(X_train, y_train)"
   ]
  },
  {
   "cell_type": "code",
   "execution_count": 13,
   "metadata": {},
   "outputs": [],
   "source": [
    "predictions = logisticRegr.predict(X_test)"
   ]
  },
  {
   "cell_type": "code",
   "execution_count": 14,
   "metadata": {},
   "outputs": [
    {
     "name": "stdout",
     "output_type": "stream",
     "text": [
      "0.7787958115183246\n"
     ]
    }
   ],
   "source": [
    "score = logisticRegr.score(X_test, y_test)\n",
    "print(score)"
   ]
  },
  {
   "cell_type": "code",
   "execution_count": 15,
   "metadata": {},
   "outputs": [
    {
     "name": "stdout",
     "output_type": "stream",
     "text": [
      "0.7804878048780488\n",
      "0.6254071661237784\n"
     ]
    }
   ],
   "source": [
    "print(precision_score(tt_y, predictions))\n",
    "print(recall_score(tt_y, predictions))"
   ]
  },
  {
   "cell_type": "code",
   "execution_count": null,
   "metadata": {},
   "outputs": [],
   "source": []
  },
  {
   "cell_type": "code",
   "execution_count": null,
   "metadata": {},
   "outputs": [],
   "source": []
  }
 ],
 "metadata": {
  "kernelspec": {
   "display_name": "Python 3",
   "language": "python",
   "name": "python3"
  },
  "language_info": {
   "codemirror_mode": {
    "name": "ipython",
    "version": 3
   },
   "file_extension": ".py",
   "mimetype": "text/x-python",
   "name": "python",
   "nbconvert_exporter": "python",
   "pygments_lexer": "ipython3",
   "version": "3.7.6"
  }
 },
 "nbformat": 4,
 "nbformat_minor": 4
}
